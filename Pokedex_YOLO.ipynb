{
 "cells": [
  {
   "cell_type": "markdown",
   "id": "245920b0-2077-4cdc-9ad5-bff9506ffd1c",
   "metadata": {},
   "source": [
    "# Setup\n",
    "Clone GitHub [repository](https://github.com/ultralytics/yolov5), install [dependencies](https://github.com/ultralytics/yolov5/blob/master/requirements.txt) and check PyTorch and GPU."
   ]
  },
  {
   "cell_type": "code",
   "execution_count": 2,
   "id": "1e5e22c0-8734-4388-8a9c-8c90753a4b2e",
   "metadata": {},
   "outputs": [
    {
     "name": "stdout",
     "output_type": "stream",
     "text": [
      "Cloning into 'yolov5'...\n",
      "remote: Enumerating objects: 15679, done.\u001b[K\n",
      "remote: Counting objects: 100% (7/7), done.\u001b[K\n",
      "remote: Compressing objects: 100% (7/7), done.\u001b[K\n",
      "remote: Total 15679 (delta 1), reused 2 (delta 0), pack-reused 15672\u001b[K\n",
      "Receiving objects: 100% (15679/15679), 14.45 MiB | 34.57 MiB/s, done.\n",
      "Resolving deltas: 100% (10742/10742), done.\n",
      "/opt/app-root/src/yolov5/yolov5\n",
      "\n",
      "\u001b[1m[\u001b[0m\u001b[34;49mnotice\u001b[0m\u001b[1;39;49m]\u001b[0m\u001b[39;49m A new release of pip is available: \u001b[0m\u001b[31;49m23.0.1\u001b[0m\u001b[39;49m -> \u001b[0m\u001b[32;49m23.1.2\u001b[0m\n",
      "\u001b[1m[\u001b[0m\u001b[34;49mnotice\u001b[0m\u001b[1;39;49m]\u001b[0m\u001b[39;49m To update, run: \u001b[0m\u001b[32;49mpip install --upgrade pip\u001b[0m\n",
      "Note: you may need to restart the kernel to use updated packages.\n"
     ]
    }
   ],
   "source": [
    "!git clone https://github.com/ultralytics/yolov5  # clone\n",
    "%cd yolov5\n",
    "%pip install -qr requirements.txt  # install"
   ]
  },
  {
   "cell_type": "markdown",
   "id": "2f6fc637-e5f8-491f-9d0a-42f47a9b6a25",
   "metadata": {},
   "source": [
    "Install opencv-python-headless many to avoid *ImportError: libGL.so.1: cannot open shared object file: No such file or directory*"
   ]
  },
  {
   "cell_type": "code",
   "execution_count": 3,
   "id": "cc2c1973-4436-4c18-80a4-6cc620e5f2cd",
   "metadata": {},
   "outputs": [
    {
     "name": "stdout",
     "output_type": "stream",
     "text": [
      "Collecting opencv-python-headless\n",
      "  Downloading opencv_python_headless-4.7.0.72-cp37-abi3-manylinux_2_17_x86_64.manylinux2014_x86_64.whl (49.2 MB)\n",
      "\u001b[2K     \u001b[90m━━━━━━━━━━━━━━━━━━━━━━━━━━━━━━━━━━━━━━━\u001b[0m \u001b[32m49.2/49.2 MB\u001b[0m \u001b[31m269.5 MB/s\u001b[0m eta \u001b[36m0:00:00\u001b[0ma \u001b[36m0:00:01\u001b[0m\n",
      "\u001b[?25hRequirement already satisfied: numpy>=1.19.3 in /opt/app-root/lib/python3.9/site-packages (from opencv-python-headless) (1.24.2)\n",
      "Installing collected packages: opencv-python-headless\n",
      "Successfully installed opencv-python-headless-4.7.0.72\n",
      "\n",
      "\u001b[1m[\u001b[0m\u001b[34;49mnotice\u001b[0m\u001b[1;39;49m]\u001b[0m\u001b[39;49m A new release of pip is available: \u001b[0m\u001b[31;49m23.0.1\u001b[0m\u001b[39;49m -> \u001b[0m\u001b[32;49m23.1.2\u001b[0m\n",
      "\u001b[1m[\u001b[0m\u001b[34;49mnotice\u001b[0m\u001b[1;39;49m]\u001b[0m\u001b[39;49m To update, run: \u001b[0m\u001b[32;49mpip install --upgrade pip\u001b[0m\n"
     ]
    }
   ],
   "source": [
    "!pip install opencv-python-headless"
   ]
  },
  {
   "cell_type": "code",
   "execution_count": 4,
   "id": "836dd155-dedf-4902-b437-fbbbc608eda2",
   "metadata": {},
   "outputs": [
    {
     "name": "stderr",
     "output_type": "stream",
     "text": [
      "YOLOv5 🚀 v7.0-168-gec2b853 Python-3.9.14 torch-1.13.1+cu117 CPU\n"
     ]
    },
    {
     "name": "stdout",
     "output_type": "stream",
     "text": [
      "Setup complete ✅ (8 CPUs, 30.6 GB RAM, 91.8/299.5 GB disk)\n"
     ]
    }
   ],
   "source": [
    "import torch\n",
    "import utils\n",
    "display = utils.notebook_init()  # checks"
   ]
  },
  {
   "cell_type": "markdown",
   "id": "4f41ce15-5738-4186-8612-06545da75e2c",
   "metadata": {},
   "source": [
    "# Data preparation\n",
    "Data preparation is usually a big task. You might have to clean the data. Label the data - in computer vision it means creating the bounding boxes. And also split the data into training and test data sets.\n",
    "\n",
    "We are lucky, because this (hard) work has been done already. You just need to Unzip the images and annotations.\n",
    "\n",
    "**Unzip the images and annotations:**"
   ]
  },
  {
   "cell_type": "code",
   "execution_count": 8,
   "id": "689ae90e-9713-4fc2-9ca2-15f6173f4a38",
   "metadata": {},
   "outputs": [
    {
     "name": "stdout",
     "output_type": "stream",
     "text": [
      "-rw-r--r--. 1 1014230000 1014230000 1740 May 19 11:04 /opt/app-root/src/pokedex-demo/database/PokemonYOLO/data.yaml\n",
      "-rw-r--r--. 1 1014230000 1014230000  138 May 19 11:04 /opt/app-root/src/pokedex-demo/database/PokemonYOLO/README.dataset.txt\n",
      "-rw-r--r--. 1 1014230000 1014230000  424 May 19 11:04 /opt/app-root/src/pokedex-demo/database/PokemonYOLO/README.roboflow.txt\n",
      "\n",
      "/opt/app-root/src/pokedex-demo/database/PokemonYOLO/test:\n",
      "total 32\n",
      "drwxr-sr-x. 2 1014230000 1014230000 16384 May 19 11:04 images\n",
      "drwxr-sr-x. 2 1014230000 1014230000 16384 May 19 11:04 labels\n",
      "\n",
      "/opt/app-root/src/pokedex-demo/database/PokemonYOLO/train:\n",
      "total 156\n",
      "drwxr-sr-x. 2 1014230000 1014230000 77824 May 19 11:04 images\n",
      "drwxr-sr-x. 2 1014230000 1014230000 81920 May 19 11:04 labels\n",
      "\n",
      "/opt/app-root/src/pokedex-demo/database/PokemonYOLO/valid:\n",
      "total 52\n",
      "drwxr-sr-x. 2 1014230000 1014230000 28672 May 19 11:04 images\n",
      "drwxr-sr-x. 2 1014230000 1014230000 24576 May 19 11:04 labels\n"
     ]
    }
   ],
   "source": [
    "!ls -l /opt/app-root/src/pokedex-demo/database/PokemonYOLO/*"
   ]
  },
  {
   "cell_type": "markdown",
   "id": "c37e6a84-831a-4caa-b7b7-8c23d6fb240a",
   "metadata": {},
   "source": [
    "**View example image:**"
   ]
  },
  {
   "cell_type": "code",
   "execution_count": 9,
   "id": "d0b84f68-ff52-449e-94f6-4a7c3cbd0949",
   "metadata": {},
   "outputs": [
    {
     "data": {
      "image/jpeg": "[encoded data removed]",
      "text/plain": [
       "<IPython.core.display.Image object>"
      ]
     },
     "execution_count": 9,
     "metadata": {
      "image/jpeg": {
       "width": 600
      }
     },
     "output_type": "execute_result"
    }
   ],
   "source": [
    "# View image \n",
    "display.Image(filename='/opt/app-root/src/pokedex-demo/database/PokemonYOLO/valid/images/fed6277326774a829feb7dd4a53217bc_jpg.rf.b74842621792ae50b807f8f511bce674.jpg', width=600)"
   ]
  },
  {
   "cell_type": "markdown",
   "id": "55ed07b2-b24d-4184-9466-1dcc09532db9",
   "metadata": {},
   "source": [
    "**Explore the Yolo annotation for the image:**\n",
    "\n",
    "Let's have look at the annotation file for the image. It contains two \"bent\"."
   ]
  },
  {
   "cell_type": "code",
   "execution_count": 10,
   "id": "bbebb52a-b8f5-4e9b-810f-76189c4a2665",
   "metadata": {},
   "outputs": [
    {
     "name": "stdout",
     "output_type": "stream",
     "text": [
      "13 0.4879807692307692 0.5036057692307693 0.8870192307692307 0.9915865384615384"
     ]
    }
   ],
   "source": [
    "# Show annotation\n",
    "!cat /opt/app-root/src/pokedex-demo/database/PokemonYOLO/valid/labels/fed6277326774a829feb7dd4a53217bc_jpg.rf.b74842621792ae50b807f8f511bce674.txt"
   ]
  },
  {
   "cell_type": "markdown",
   "id": "f25472f3-d6d0-4c8c-9baf-e7b4d334349b",
   "metadata": {},
   "source": [
    "# Start model training\n",
    "Train a YOLOv5m model on the metal-nut data by specifying dataset, batch-size, image size and pretrained --weights yolov5m.pt. Pretrained weights are auto-downloaded from the latest [YOLOv5 release](https://github.com/ultralytics/yolov5/releases).\n",
    "\n",
    "Before starting, check this:\n",
    "\n",
    "* *--workers 0* is a workaround for problem with shared memory limit\n",
    "* Or, extend the share memory for your notebook as describe in the local README.md and remove --workers 0 below."
   ]
  },
  {
   "cell_type": "code",
   "execution_count": 12,
   "id": "9e958402-65fb-47c8-9ad7-4b27fc34b047",
   "metadata": {},
   "outputs": [
    {
     "name": "stdout",
     "output_type": "stream",
     "text": [
      "\u001b[34m\u001b[1mtrain: \u001b[0mweights=yolov5m.pt, cfg=, data=/opt/app-root/src/pokedex-demo/database/PokemonYOLO/data.yaml, hyp=data/hyps/hyp.scratch-low.yaml, epochs=600, batch_size=16, imgsz=640, rect=False, resume=False, nosave=False, noval=False, noautoanchor=False, noplots=False, evolve=None, bucket=, cache=None, image_weights=False, device=, multi_scale=False, single_cls=False, optimizer=SGD, sync_bn=False, workers=8, project=runs/train, name=exp, exist_ok=False, quad=False, cos_lr=False, label_smoothing=0.0, patience=100, freeze=[0], save_period=-1, seed=0, local_rank=-1, entity=None, upload_dataset=False, bbox_interval=-1, artifact_alias=latest\n",
      "\u001b[34m\u001b[1mgithub: \u001b[0mup to date with https://github.com/ultralytics/yolov5 ✅\n",
      "YOLOv5 🚀 v7.0-168-gec2b853 Python-3.9.14 torch-1.13.1+cu117 CPU\n",
      "\n",
      "\u001b[34m\u001b[1mhyperparameters: \u001b[0mlr0=0.01, lrf=0.01, momentum=0.937, weight_decay=0.0005, warmup_epochs=3.0, warmup_momentum=0.8, warmup_bias_lr=0.1, box=0.05, cls=0.5, cls_pw=1.0, obj=1.0, obj_pw=1.0, iou_t=0.2, anchor_t=4.0, fl_gamma=0.0, hsv_h=0.015, hsv_s=0.7, hsv_v=0.4, degrees=0.0, translate=0.1, scale=0.5, shear=0.0, perspective=0.0, flipud=0.0, fliplr=0.5, mosaic=1.0, mixup=0.0, copy_paste=0.0\n",
      "\u001b[34m\u001b[1mClearML: \u001b[0mrun 'pip install clearml' to automatically track, visualize and remotely train YOLOv5 🚀 in ClearML\n",
      "\u001b[34m\u001b[1mComet: \u001b[0mrun 'pip install comet_ml' to automatically track and visualize YOLOv5 🚀 runs in Comet\n",
      "\u001b[34m\u001b[1mTensorBoard: \u001b[0mStart with 'tensorboard --logdir runs/train', view at http://localhost:6006/\n",
      "\n",
      "Dataset not found ⚠️, missing paths ['/opt/app-root/src/pokedex-demo/yolov5/yolov5/valid/images']\n",
      "Traceback (most recent call last):\n",
      "  File \"/opt/app-root/src/pokedex-demo/yolov5/yolov5/train.py\", line 642, in <module>\n",
      "    main(opt)\n",
      "  File \"/opt/app-root/src/pokedex-demo/yolov5/yolov5/train.py\", line 531, in main\n",
      "    train(opt.hyp, opt, device, callbacks)\n",
      "  File \"/opt/app-root/src/pokedex-demo/yolov5/yolov5/train.py\", line 112, in train\n",
      "    data_dict = data_dict or check_dataset(data)  # check if None\n",
      "  File \"/opt/app-root/src/pokedex-demo/yolov5/yolov5/utils/general.py\", line 517, in check_dataset\n",
      "    raise Exception('Dataset not found ❌')\n",
      "Exception: Dataset not found ❌\n"
     ]
    }
   ],
   "source": [
    "!python train.py --img 640 --batch 16 --epochs 600 --data /opt/app-root/src/pokedex-demo/database/PokemonYOLO/data.yaml --weights yolov5m.pt "
   ]
  }
 ],
 "metadata": {
  "kernelspec": {
   "display_name": "Python 3.9.14",
   "language": "python",
   "name": "python3"
  },
  "language_info": {
   "codemirror_mode": {
    "name": "ipython",
    "version": 3
   },
   "file_extension": ".py",
   "mimetype": "text/x-python",
   "name": "python",
   "nbconvert_exporter": "python",
   "pygments_lexer": "ipython3",
   "version": "3.9.14"
  }
 },
 "nbformat": 4,
 "nbformat_minor": 5
}
