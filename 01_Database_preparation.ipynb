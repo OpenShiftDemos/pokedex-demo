{
 "cells": [
  {
   "cell_type": "code",
   "execution_count": 1,
   "id": "25d7a567-6091-47a9-96d1-428941538d6f",
   "metadata": {},
   "outputs": [
    {
     "name": "stdout",
     "output_type": "stream",
     "text": [
      "This is what you entered: Hello World!\n"
     ]
    }
   ],
   "source": [
    "def print_some_text(entered_text):\n",
    "    print('This is what you entered: ' + entered_text)\n",
    "    \n",
    "my_text = 'Hello World!'\n",
    "\n",
    "print_some_text(my_text)"
   ]
  },
  {
   "cell_type": "code",
   "execution_count": 2,
   "id": "5a382fd8-568d-4709-ae43-f98aa8f4cc95",
   "metadata": {},
   "outputs": [
    {
     "name": "stdout",
     "output_type": "stream",
     "text": [
      "This is what you entered: Bye!\n"
     ]
    }
   ],
   "source": [
    "new_text = 'Bye!'\n",
    "\n",
    "# Of course, functions defined in another cell are still accessible!\n",
    "print_some_text(new_text)"
   ]
  },
  {
   "cell_type": "markdown",
   "id": "14077c47-9e27-44ff-a888-9085437f389f",
   "metadata": {},
   "source": [
    "# This is a markdown cell\n",
    "## Chapter 1\n",
    "You canuse **markdown** formatting to enter your text.\n",
    "\n",
    "*Double-click* on the cell to modify it!\n",
    "\n",
    "[Markdown reference](https://www.markdownguide.org/basic-syntax/)"
   ]
  }
 ],
 "metadata": {
  "kernelspec": {
   "display_name": "Python 3",
   "language": "python",
   "name": "python3"
  },
  "language_info": {
   "codemirror_mode": {
    "name": "ipython",
    "version": 3
   },
   "file_extension": ".py",
   "mimetype": "text/x-python",
   "name": "python",
   "nbconvert_exporter": "python",
   "pygments_lexer": "ipython3",
   "version": "3.8.13"
  }
 },
 "nbformat": 4,
 "nbformat_minor": 5
}
